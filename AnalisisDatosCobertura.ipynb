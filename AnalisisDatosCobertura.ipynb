{
 "cells": [
  {
   "cell_type": "code",
   "execution_count": 1,
   "id": "14a0134e-1ce9-4cf8-ad08-0e48a339449f",
   "metadata": {},
   "outputs": [],
   "source": [
    "import pandas as pd\n",
    "#outsiders se genera con: python3 run_all.py --option 0 --contract_type outsiders --save_path descargas_9_jun\n",
    "outsiders_path='/home/sblanco/NextProc/PLACE/outsiders.parquet'\n",
    "\n",
    "#insiders se genera con:  python3 run_all.py --option 0 --contract_type insiders --save_path /home/sblanco/NextProc/PLACE/\n",
    "insiders_path = '/home/sblanco/NextProc/PLACE/insiders.parquet'\n",
    "\n",
    "year = 2024\n"
   ]
  },
  {
   "cell_type": "code",
   "execution_count": 2,
   "id": "7d7a5a7e-129e-42b8-b65f-d9377b4e72f9",
   "metadata": {},
   "outputs": [
    {
     "name": "stdout",
     "output_type": "stream",
     "text": [
      "Leyendo datos...\n"
     ]
    }
   ],
   "source": [
    "print ('Leyendo datos...')\n",
    "df_PLACE_out = pd.read_parquet(outsiders_path)\n",
    "df_PLACE_insiders = pd.read_parquet(insiders_path)"
   ]
  },
  {
   "cell_type": "code",
   "execution_count": 3,
   "id": "abdc8ebd-8c25-44c1-9c7c-38d59f96725a",
   "metadata": {},
   "outputs": [
    {
     "name": "stdout",
     "output_type": "stream",
     "text": [
      "Unificando datos...\n"
     ]
    }
   ],
   "source": [
    "print ('Unificando datos...')\n",
    "\n",
    "\n",
    "def unify_colname(col):\n",
    "    return \".\".join([el for el in col if el])\n",
    "\n",
    "df_PLACE_out = df_PLACE_out.rename(columns={\"id\":\"place_id\"})\n",
    "df_PLACE_insiders = df_PLACE_insiders.rename(columns={\"id\":\"place_id\"})\n",
    "\n",
    "df_PLACE_out.columns = [unify_colname(col) for col in df_PLACE_out.columns]\n",
    "df_PLACE_insiders.columns = [unify_colname(col) for col in df_PLACE_insiders.columns]\n"
   ]
  },
  {
   "cell_type": "code",
   "execution_count": 4,
   "id": "b39ec49b-7b5b-4d9d-a0d7-24d79d447bca",
   "metadata": {},
   "outputs": [],
   "source": [
    "# outsiders\n",
    "columns_keep_out = [\n",
    "    #'ContractFolderStatus.ContractFolderID', # Expediente\n",
    "    'ContractFolderStatus.ProcurementProject.RequiredCommodityClassification.ItemClassificationCode', #CPV\n",
    "    'ContractFolderStatus.ProcurementProject.RealizedLocation.CountrySubentityCode', # Country NUTS\n",
    "    'ContractFolderStatus.LocatedContractingParty.ParentLocatedParty.PartyName.Name', # Ubicación orgánica\n",
    "    'ContractFolderStatus.ProcurementProject.BudgetAmount.EstimatedOverallContractAmount', # Presupuesto\n",
    "    'ContractFolderStatus.ContractFolderID', #Expediente\n",
    "    'title', # PLACE title (objective)\n",
    "    'ContractFolderStatus.ValidNoticeInfo.AdditionalPublicationStatus.AdditionalPublicationDocumentReference.IssueDate', # Date\n",
    "    'place_id',\n",
    "    'link',\n",
    "    'ContractFolderStatus.TechnicalDocumentReference.Attachment.ExternalReference.URI', #pliego técnico  \n",
    "    'ContractFolderStatus.LegalDocumentReference.Attachment.ExternalReference.URI', #pliego administrativo\n",
    "    'ContractFolderStatus.UUID' # referencia a TED\n",
    "]\n",
    "\n",
    "#insiders:\n",
    "columns_keep_ins = [\n",
    "    #'ContractFolderStatus.ContractFolderID', # Expediente\n",
    "    'ContractFolderStatus.ProcurementProject.RequiredCommodityClassification.ItemClassificationCode', # CPV\n",
    "    'ContractFolderStatus.ProcurementProject.RealizedLocation.CountrySubentityCode', # Country NUTS\n",
    "    'ContractFolderStatus.LocatedContractingParty.ParentLocatedParty.PartyName.Name', # Ubicación orgánica\n",
    "    'ContractFolderStatus.ProcurementProject.BudgetAmount.EstimatedOverallContractAmount', # Presupuesto\n",
    "    'ContractFolderStatus.ContractFolderID', #Expediente\n",
    "    'title', # PLACE title (objective)\n",
    "    'ContractFolderStatus.ValidNoticeInfo.AdditionalPublicationStatus.AdditionalPublicationDocumentReference.IssueDate', # Date\n",
    "    'place_id',\n",
    "    'link',\n",
    "    'ContractFolderStatus.TechnicalDocumentReference.Attachment.ExternalReference.URI', #pliego técnico  \n",
    "    'ContractFolderStatus.LegalDocumentReference.Attachment.ExternalReference.URI', #pliego administrativo\n",
    "    'ContractFolderStatus.UUID' # referencia a TED    \n",
    "]\n",
    "\n",
    "\n",
    "df_PLACE_out = df_PLACE_out[columns_keep_out]\n",
    "df_PLACE_insiders = df_PLACE_insiders[columns_keep_ins]\n",
    "\n",
    "df_PLACE_all ={ 'outsiders': {'name':'outsiders','data':df_PLACE_out,'total':df_PLACE_out.shape[0] },\n",
    "                'insiders': {'name':'insiders','data':df_PLACE_insiders,'total':df_PLACE_insiders.shape[0] }                  \n",
    "              }\n",
    "\n",
    "for k,v in df_PLACE_all.items():\n",
    "    v['data']\n",
    "    v['data'] = v['data'].rename(columns={\n",
    "    'ContractFolderStatus.ProcurementProject.RequiredCommodityClassification.ItemClassificationCode':'cpv',\n",
    "    'ContractFolderStatus.ProcurementProject.RealizedLocation.CountrySubentityCode':'nuts',\n",
    "    'ContractFolderStatus.LocatedContractingParty.ParentLocatedParty.PartyName.Name':'org_loc',\n",
    "    'ContractFolderStatus.ProcurementProject.BudgetAmount.EstimatedOverallContractAmount':'budget',\n",
    "    'ContractFolderStatus.ContractFolderID':'expedient',\n",
    "    'title':'objective',\n",
    "    'ContractFolderStatus.ValidNoticeInfo.AdditionalPublicationStatus.AdditionalPublicationDocumentReference.IssueDate':'place_date',\n",
    "    'place_id':'place_id',\n",
    "    'link':'link',\n",
    "    'ContractFolderStatus.UUID':'tedUUID',\n",
    "    'ContractFolderStatus.TechnicalDocumentReference.Attachment.ExternalReference.URI':'pliego_tecnico',\n",
    "    'ContractFolderStatus.LegalDocumentReference.Attachment.ExternalReference.URI':'pliego_administrativo'    \n",
    "})\n"
   ]
  },
  {
   "cell_type": "code",
   "execution_count": 5,
   "id": "b5abb3c1-767d-45cb-940e-e16c3df24111",
   "metadata": {},
   "outputs": [
    {
     "name": "stdout",
     "output_type": "stream",
     "text": [
      "Unificando fechas\n",
      "Para outsiders\n",
      "Para insiders\n"
     ]
    }
   ],
   "source": [
    "print ('Unificando fechas')\n",
    "for k,v in df_PLACE_all.items():\n",
    "    print ('Para %s' % (v['name']))\n",
    "    v['data']['date'] = v['data']['place_date'].astype(str)\n",
    "    v['data']['date'] = v['data']['date'].str.strip('[]').str.strip('\"[').str.split(' ')\n",
    "    v['data']['date'] = v['data']['date'].apply(lambda x: str(x[0].strip().strip(\"'\").strip(\"',\").strip('\"]') if isinstance(x, list) else x.strip().strip(\"',\").strip('\"]')))"
   ]
  },
  {
   "cell_type": "code",
   "execution_count": 6,
   "id": "85f90e92-d24f-4a09-9075-d49dedc0c418",
   "metadata": {},
   "outputs": [
    {
     "name": "stdout",
     "output_type": "stream",
     "text": [
      "**  outsiders: ** \n",
      " \t \t Hay 368,831 licitaciones, de los cuales, únicos son 368,831. \n",
      " \t \t \t \t ->Si filtramos para 2024 nos quedamos sólo con 51,877 licitaciones únicas \n",
      "\n",
      "**  insiders: ** \n",
      " \t \t Hay 868,865 licitaciones, de los cuales, únicos son 868,865. \n",
      " \t \t \t \t ->Si filtramos para 2024 nos quedamos sólo con 156,105 licitaciones únicas \n",
      "\n"
     ]
    }
   ],
   "source": [
    "\n",
    "for k,v in df_PLACE_all.items():\n",
    "    #quitamos ids duplicados:\n",
    "    v['data'].drop_duplicates(subset=['place_id'],inplace=True)\n",
    "    unique = v['data'].shape[0]\n",
    "    #filtramos por el año seleccionado:\n",
    "    v['data'] = v['data'][v['data']['date'].str.contains(str(year))]    \n",
    "    print ('**  %s: ** \\n \\t \\t Hay %s licitaciones, de los cuales, únicos son %s. \\n \\t \\t \\t \\t ->Si filtramos para %s nos quedamos sólo con %s licitaciones únicas \\n'\n",
    "           % (v['name'], f\"{v['total']:,}\", f\"{unique:,}\", year, f\"{v['data'].shape[0]:,}\")\n",
    "          )"
   ]
  },
  {
   "cell_type": "code",
   "execution_count": null,
   "id": "9168da5b-71aa-4362-b274-7b1e70ae6bd8",
   "metadata": {},
   "outputs": [],
   "source": [
    "for k,v in df_PLACE_all.items():\n",
    "    v['listOfPliego_tecnico'] = v['data'][v['data']['pliego_tecnico']!='<NA>']['pliego_tecnico'].to_list()\n",
    "    v['numOfPliego_tecnico'] = len (v['listOfPliego_tecnico'])\n",
    "    v['numOfUniquePliego_tecnico'] = len (set (v['listOfPliego_tecnico']))\n",
    "\n",
    "    v['listOfPliego_administrativo'] = v['data'][v['data']['pliego_administrativo']!='<NA>']['pliego_administrativo'].to_list()\n",
    "    v['numOfPliego_administrativo'] = len (v['listOfPliego_administrativo'])\n",
    "    v['numOfUniquePliego_administrativo'] = len (set (v['listOfPliego_administrativo']))\n",
    "\n",
    "    v['listOfTeds'] = v['data'][v['data']['tedUUID']!='<NA>']['tedUUID'].to_list()\n",
    "    v['numOfTeds'] = len (v['listOfTeds'])\n",
    "    v['numOfUniqueTed'] = len (set (v['listOfTeds']))\n",
    "    \n",
    "    print ('** %s: ** \\n \\t \\t Para las licitaciones únicas del año %s, hay %s identificadores de TED, de los cuáles son únicos %s' %\n",
    "            (v['name'], year,    f\"{v['numOfTeds']:,}\" ,  f\"{v['numOfUniqueTed']:,}\")\n",
    "          )\n",
    "    print ('\\t  \\t Para las licitaciones únicas del año %s, hay %s pliegos técnicos, de los cuáles son únicos %s' %\n",
    "            ( year,    f\"{v['numOfPliego_tecnico']:,}\"  ,  f\"{v['numOfUniquePliego_tecnico']:,}\")\n",
    "          )\n",
    "    print ('\\t  \\t Para las licitaciones únicas del año %s, hay %s pliegos administrativos, de los cuáles son únicos %s' %\n",
    "            ( year,   f\"{v['numOfPliego_administrativo']:,}\" , f\"{v['numOfUniquePliego_administrativo']:,}\" )\n",
    "          )\n",
    "\n"
   ]
  },
  {
   "cell_type": "code",
   "execution_count": null,
   "id": "01311bd2-c7d1-4102-ac9a-2d5321523ed0",
   "metadata": {},
   "outputs": [],
   "source": [
    "import matplotlib.pyplot as plt\n",
    "\n",
    "for k,v in df_PLACE_all.items():\n",
    "    df = v['data']\n",
    "    print ('Relación UUID Ted y presupuesto de la licitación, para el año %s y para %s.' % (year, v['name']))\n",
    "    df['budget_bin'] = pd.qcut(df['budget'], q=20)\n",
    "    df['budget_bin'] = df['budget_bin'].apply(lambda x: f\"{int(x.left):,} - {int(x.right):,}\")\n",
    "    total_counts = df.groupby('budget_bin').size()\n",
    "    ted_counts = df[df['tedUUID'] != '<NA>'].groupby('budget_bin').size()\n",
    "    counts = pd.DataFrame({'Total': total_counts, 'ted ≠ NA': ted_counts}).fillna(0)\n",
    "    counts.plot(kind='bar', figsize=(10,6))\n",
    "    plt.ylabel('Count')\n",
    "    plt.xlabel('Budget Range')\n",
    "    plt.xticks(rotation=45)\n",
    "    plt.tight_layout()\n",
    "    plt.show()"
   ]
  },
  {
   "cell_type": "code",
   "execution_count": null,
   "id": "a335ef0e-2e2e-4811-ae85-ae2705b4cda7",
   "metadata": {},
   "outputs": [],
   "source": []
  },
  {
   "cell_type": "code",
   "execution_count": null,
   "id": "dab5b0cb-232a-4e12-b58e-1f5ae22077d7",
   "metadata": {},
   "outputs": [],
   "source": [
    "#COMPROBAR CUÁNTOS TIENEN TED Y PLIEGOS ADMINISTRATIVOS Y TECNICOS A LA VEZ!!!!!!\n",
    "for k,v in df_PLACE_all.items():\n",
    "    out_df = v['data']\n",
    "    data_red = out_df[out_df['tedUUID']!='<NA>']\n",
    "    numteds = data_red.shape[0]\n",
    "    data_red = data_red [ data_red [ 'pliego_tecnico' ] !='<NA>']\n",
    "    ted_and_pliegotec = data_red.shape[0]\n",
    "    data_red = data_red [ data_red [ 'pliego_administrativo' ] !='<NA>']\n",
    "    ted_and_pliegotec_and_pliegoadmin = data_red.shape[0]\n",
    "    print ('** %s: ** \\n ' %v['name'])\n",
    "    print ('\\t  \\t Para las licitaciones únicas del año %s, hay %s identficadores ted, de los cuáles:' \\\n",
    "            '\\n \\t \\t \\t %s cuentan con pliegos técnicos y %s cuentan con pliegos ténicos y administrativos' %\n",
    "            ( year,   f\"{numteds:,}\" , f\"{ted_and_pliegotec:,}\", f\"{ted_and_pliegotec_and_pliegoadmin:,}\" )\n",
    "          )\n",
    "    "
   ]
  },
  {
   "cell_type": "code",
   "execution_count": null,
   "id": "3bb82050-b537-4995-91d8-be00bd237de2",
   "metadata": {},
   "outputs": [],
   "source": []
  },
  {
   "cell_type": "code",
   "execution_count": null,
   "id": "680d7f84-4e57-42c3-9102-6c44b7d6ff45",
   "metadata": {},
   "outputs": [],
   "source": [
    "import matplotlib.pyplot as plt\n",
    "\n",
    "for k,v in df_PLACE_all.items():\n",
    "    df = v['data']\n",
    "    print ('Relación Pliegos Tec y presupuesto de la licitación, para el año %s y para %s.' % (year, v['name']))\n",
    "    df['budget_bin'] = pd.qcut(df['budget'], q=20)\n",
    "    df['budget_bin'] = df['budget_bin'].apply(lambda x: f\"{int(x.left):,} - {int(x.right):,}\")\n",
    "    total_counts = df.groupby('budget_bin').size()\n",
    "    pliego_counts = df[df['pliego_tecnico'] != '<NA>'].groupby('budget_bin').size()\n",
    "    counts = pd.DataFrame({'Total': total_counts, 'pliegostec ≠ NA': pliego_counts}).fillna(0)\n",
    "    counts.plot(kind='bar', figsize=(10,6))\n",
    "    plt.ylabel('Count')\n",
    "    plt.xlabel('Budget Range')\n",
    "    plt.xticks(rotation=45)\n",
    "    plt.tight_layout()\n",
    "    plt.show()\n",
    "\n",
    "\n",
    "#pliego_tecnico"
   ]
  },
  {
   "cell_type": "code",
   "execution_count": null,
   "id": "75603bf5-4404-4736-aba7-5e27ade32f21",
   "metadata": {},
   "outputs": [],
   "source": []
  },
  {
   "cell_type": "code",
   "execution_count": null,
   "id": "15da9af0-3c33-4634-883f-89f1e8a22124",
   "metadata": {},
   "outputs": [],
   "source": []
  },
  {
   "cell_type": "code",
   "execution_count": null,
   "id": "d907263e-9af6-4ece-bc41-aca9d5b03f0b",
   "metadata": {},
   "outputs": [],
   "source": [
    "#################### FIN DEL NOTEBOOK, POR DEBAJO DE AQUÍ SÓLO HAY HORRORES."
   ]
  },
  {
   "cell_type": "code",
   "execution_count": null,
   "id": "de06ac93-6902-4faf-85af-cc0e7aca31af",
   "metadata": {},
   "outputs": [],
   "source": []
  },
  {
   "cell_type": "code",
   "execution_count": null,
   "id": "38d12346-414b-46ae-b2ce-d6d0cddf8c0f",
   "metadata": {},
   "outputs": [],
   "source": [
    "df_PLACE_all['outsiders']['data']"
   ]
  },
  {
   "cell_type": "code",
   "execution_count": 7,
   "id": "ad810412-f720-4ed3-bea4-6af05c1c163e",
   "metadata": {},
   "outputs": [
    {
     "data": {
      "text/plain": [
       "35340"
      ]
     },
     "execution_count": 7,
     "metadata": {},
     "output_type": "execute_result"
    }
   ],
   "source": [
    "df = df_PLACE_all['outsiders']['data'].copy()\n",
    "df = df[df['pliego_tecnico'] != '<NA>']\n",
    "df.shape[0]"
   ]
  },
  {
   "cell_type": "code",
   "execution_count": 8,
   "id": "7a1fce90-c477-45fa-9019-5f5004af4480",
   "metadata": {},
   "outputs": [],
   "source": [
    "def createUrls ( row ):\n",
    "    row['url'] = {'tecnico':row['pliego_tecnico'],'administrativo':row['pliego_administrativo']}\n",
    "    return row"
   ]
  },
  {
   "cell_type": "code",
   "execution_count": 9,
   "id": "ed4f1177-427a-4da8-b93d-6deaa884fc72",
   "metadata": {},
   "outputs": [],
   "source": [
    "df =df.apply(createUrls, axis=1).reset_index()"
   ]
  },
  {
   "cell_type": "code",
   "execution_count": 12,
   "id": "7cc6e965-2fe8-459d-8771-958b0dfb55f8",
   "metadata": {},
   "outputs": [
    {
     "name": "stderr",
     "output_type": "stream",
     "text": [
      "/tmp/ipykernel_2754759/2315884782.py:3: SettingWithCopyWarning: \n",
      "A value is trying to be set on a copy of a slice from a DataFrame.\n",
      "Try using .loc[row_indexer,col_indexer] = value instead\n",
      "\n",
      "See the caveats in the documentation: https://pandas.pydata.org/pandas-docs/stable/user_guide/indexing.html#returning-a-view-versus-a-copy\n",
      "  result['id'] = np.arange(0, len(result))\n"
     ]
    },
    {
     "data": {
      "text/html": [
       "<div>\n",
       "<style scoped>\n",
       "    .dataframe tbody tr th:only-of-type {\n",
       "        vertical-align: middle;\n",
       "    }\n",
       "\n",
       "    .dataframe tbody tr th {\n",
       "        vertical-align: top;\n",
       "    }\n",
       "\n",
       "    .dataframe thead th {\n",
       "        text-align: right;\n",
       "    }\n",
       "</style>\n",
       "<table border=\"1\" class=\"dataframe\">\n",
       "  <thead>\n",
       "    <tr style=\"text-align: right;\">\n",
       "      <th></th>\n",
       "      <th>place_id</th>\n",
       "      <th>url</th>\n",
       "      <th>id</th>\n",
       "    </tr>\n",
       "  </thead>\n",
       "  <tbody>\n",
       "    <tr>\n",
       "      <th>0</th>\n",
       "      <td>https://contrataciondelestado.es/sindicacion/P...</td>\n",
       "      <td>{'tecnico': 'https://www.contratacion.euskadi....</td>\n",
       "      <td>0</td>\n",
       "    </tr>\n",
       "    <tr>\n",
       "      <th>1</th>\n",
       "      <td>https://contrataciondelestado.es/sindicacion/P...</td>\n",
       "      <td>{'tecnico': 'https://contractaciopublica.cat/p...</td>\n",
       "      <td>1</td>\n",
       "    </tr>\n",
       "    <tr>\n",
       "      <th>2</th>\n",
       "      <td>https://contrataciondelestado.es/sindicacion/P...</td>\n",
       "      <td>{'tecnico': 'https://www.contratacion.euskadi....</td>\n",
       "      <td>2</td>\n",
       "    </tr>\n",
       "    <tr>\n",
       "      <th>3</th>\n",
       "      <td>https://contrataciondelestado.es/sindicacion/P...</td>\n",
       "      <td>{'tecnico': 'https://www.contratacion.euskadi....</td>\n",
       "      <td>3</td>\n",
       "    </tr>\n",
       "    <tr>\n",
       "      <th>4</th>\n",
       "      <td>https://contrataciondelestado.es/sindicacion/P...</td>\n",
       "      <td>{'tecnico': 'https://contratos-publicos.comuni...</td>\n",
       "      <td>4</td>\n",
       "    </tr>\n",
       "    <tr>\n",
       "      <th>...</th>\n",
       "      <td>...</td>\n",
       "      <td>...</td>\n",
       "      <td>...</td>\n",
       "    </tr>\n",
       "    <tr>\n",
       "      <th>35335</th>\n",
       "      <td>https://contrataciondelestado.es/sindicacion/P...</td>\n",
       "      <td>{'tecnico': 'https://contractaciopublica.cat/p...</td>\n",
       "      <td>35335</td>\n",
       "    </tr>\n",
       "    <tr>\n",
       "      <th>35336</th>\n",
       "      <td>https://contrataciondelestado.es/sindicacion/P...</td>\n",
       "      <td>{'tecnico': 'https://www.contratacion.euskadi....</td>\n",
       "      <td>35336</td>\n",
       "    </tr>\n",
       "    <tr>\n",
       "      <th>35337</th>\n",
       "      <td>https://contrataciondelestado.es/sindicacion/P...</td>\n",
       "      <td>{'tecnico': 'https://www.contratacion.euskadi....</td>\n",
       "      <td>35337</td>\n",
       "    </tr>\n",
       "    <tr>\n",
       "      <th>35338</th>\n",
       "      <td>https://contrataciondelestado.es/sindicacion/P...</td>\n",
       "      <td>{'tecnico': 'https://www.contratacion.euskadi....</td>\n",
       "      <td>35338</td>\n",
       "    </tr>\n",
       "    <tr>\n",
       "      <th>35339</th>\n",
       "      <td>https://contrataciondelestado.es/sindicacion/P...</td>\n",
       "      <td>{'tecnico': 'https://contractaciopublica.cat/p...</td>\n",
       "      <td>35339</td>\n",
       "    </tr>\n",
       "  </tbody>\n",
       "</table>\n",
       "<p>35340 rows × 3 columns</p>\n",
       "</div>"
      ],
      "text/plain": [
       "                                                place_id  \\\n",
       "0      https://contrataciondelestado.es/sindicacion/P...   \n",
       "1      https://contrataciondelestado.es/sindicacion/P...   \n",
       "2      https://contrataciondelestado.es/sindicacion/P...   \n",
       "3      https://contrataciondelestado.es/sindicacion/P...   \n",
       "4      https://contrataciondelestado.es/sindicacion/P...   \n",
       "...                                                  ...   \n",
       "35335  https://contrataciondelestado.es/sindicacion/P...   \n",
       "35336  https://contrataciondelestado.es/sindicacion/P...   \n",
       "35337  https://contrataciondelestado.es/sindicacion/P...   \n",
       "35338  https://contrataciondelestado.es/sindicacion/P...   \n",
       "35339  https://contrataciondelestado.es/sindicacion/P...   \n",
       "\n",
       "                                                     url     id  \n",
       "0      {'tecnico': 'https://www.contratacion.euskadi....      0  \n",
       "1      {'tecnico': 'https://contractaciopublica.cat/p...      1  \n",
       "2      {'tecnico': 'https://www.contratacion.euskadi....      2  \n",
       "3      {'tecnico': 'https://www.contratacion.euskadi....      3  \n",
       "4      {'tecnico': 'https://contratos-publicos.comuni...      4  \n",
       "...                                                  ...    ...  \n",
       "35335  {'tecnico': 'https://contractaciopublica.cat/p...  35335  \n",
       "35336  {'tecnico': 'https://www.contratacion.euskadi....  35336  \n",
       "35337  {'tecnico': 'https://www.contratacion.euskadi....  35337  \n",
       "35338  {'tecnico': 'https://www.contratacion.euskadi....  35338  \n",
       "35339  {'tecnico': 'https://contractaciopublica.cat/p...  35339  \n",
       "\n",
       "[35340 rows x 3 columns]"
      ]
     },
     "execution_count": 12,
     "metadata": {},
     "output_type": "execute_result"
    }
   ],
   "source": [
    "import numpy as np\n",
    "result = df[['place_id', 'url']]\n",
    "result['id'] = np.arange(0, len(result))\n",
    "result.to_parquet ('/export/usuarios01/sblanco/red_data_outsiders_2024.parquet')\n",
    "result"
   ]
  },
  {
   "cell_type": "code",
   "execution_count": null,
   "id": "ecb1ad22-55d6-44b6-ae29-96fa8e9546b2",
   "metadata": {},
   "outputs": [],
   "source": []
  },
  {
   "cell_type": "code",
   "execution_count": null,
   "id": "ffbd770d-5104-4923-865e-c1e73d2bca46",
   "metadata": {},
   "outputs": [],
   "source": []
  },
  {
   "cell_type": "code",
   "execution_count": null,
   "id": "3af76878-d9b6-4869-82ac-255a500dd0a1",
   "metadata": {},
   "outputs": [],
   "source": [
    "data = df_PLACE_all['outsiders']['data'].copy()\n",
    "data['budget'].value_counts().to_csv('mollete.csv')"
   ]
  },
  {
   "cell_type": "code",
   "execution_count": null,
   "id": "16bd5924-31e5-4128-9185-c718382ec313",
   "metadata": {},
   "outputs": [],
   "source": []
  },
  {
   "cell_type": "code",
   "execution_count": null,
   "id": "c72890c7-726f-464a-95bf-1d0141e42488",
   "metadata": {},
   "outputs": [],
   "source": []
  },
  {
   "cell_type": "code",
   "execution_count": null,
   "id": "871cf69b-e562-4de9-b618-8b37393d435e",
   "metadata": {},
   "outputs": [],
   "source": [
    "'''Licitaciones por tipo de contrato:\n",
    "Tipo de Contrato\tDivisión Principal del CPV\tDescripción General\n",
    "Obras\t45\tTrabajos de construcción y obras de ingeniería civil.\n",
    "Suministros\t03-44 (aprox.)\tCompra de todo tipo de productos y bienes.\n",
    "Servicios\t50-98\tPrestación de actividades (limpieza, consultoría, transporte, etc.).\n",
    "'''\n",
    "for k,v in df_PLACE_all.items():\n",
    "    out_df = v['data']\n",
    "    num_obras = out_df.query ('cpv.str.startswith(\"45\")').shape[0]\n",
    "    num_suministro = out_df.query ('cpvout_df.query ('cpv.str.startswith(\"45\")').shape[0]\n",
    "    num_servicio = \n",
    "#display(dataFrame.query('Salary  <= 100000 & Age < 40 & JOB.str.startswith(\"C\").values'))\n",
    "\n",
    "data_red = out_df.query ('budget < 40000 & tedUUID !=\"<NA>\"')\n",
    "data_red['budget']\n",
    "\n"
   ]
  },
  {
   "cell_type": "code",
   "execution_count": null,
   "id": "be9fd6a0-b8c0-4a72-8c2a-01c6b9e2cc77",
   "metadata": {},
   "outputs": [],
   "source": [
    "def getTipoContrato (row):\n",
    "    data = str(row.tolist()[0][0])[:2].replace('[','')\n",
    "    tipo = '<NA>'\n",
    "    if data == 'na':        \n",
    "        tipo = '<NA>'\n",
    "    else:\n",
    "        if int(data) in range (49,99):\n",
    "            tipo = 'servicios'\n",
    "        else:\n",
    "            if int(data) in range (2,51):\n",
    "                tipo = 'suministros'\n",
    "            else:\n",
    "                if int(data)==45:\n",
    "                    tipo = 'obras'\n",
    "    return tipo\n",
    "\n",
    "\n",
    "data = df_PLACE_all['outsiders']['data'].copy()\n",
    "data['tipocontrato'] = data.apply (getTipoContrato, axis=1)"
   ]
  },
  {
   "cell_type": "code",
   "execution_count": null,
   "id": "bbfbb1af-772d-4cb7-9d74-1c0d6539be8b",
   "metadata": {},
   "outputs": [],
   "source": [
    "#data[data'tipocontrato']!='<NA>'].iloc[57]\n",
    "\n",
    "row = data [ data [ 'tipocontrato' ] =='<NA>'].iloc[0]\n",
    "int (str(row.tolist()[0][0])[:2].replace('[','')) \n",
    "#int (str(row.tolist()[0][0])[:2].replace('[','')) \n",
    "row.cpv.tolist()[0].split(',')[0]"
   ]
  },
  {
   "cell_type": "code",
   "execution_count": null,
   "id": "f163924f-fc7f-45f1-b0b8-d192ce794644",
   "metadata": {},
   "outputs": [],
   "source": [
    "row\n"
   ]
  },
  {
   "cell_type": "code",
   "execution_count": null,
   "id": "f04a3688-1670-48a8-b081-a23d0afcdc29",
   "metadata": {},
   "outputs": [],
   "source": [
    "data = df_PLACE_all['outsiders']['data']['cpv'].iloc[4000]\n",
    "data = data.tolist()[0][:2]\n",
    "if int(data) in range (50,98):\n",
    "    tipo = 'servicios'\n",
    "else:\n",
    "    if int(data) in range (3,44):\n",
    "        tipo = 'suministros'\n",
    "    else:\n",
    "        if int(data)==45:\n",
    "            tipo = 'obras'\n",
    "\n",
    "\n",
    "print ('%s -> %s' % (tipo, data))\n",
    "#.query ('cpv.str.startswith(\"45\")')"
   ]
  },
  {
   "cell_type": "code",
   "execution_count": null,
   "id": "9777d4d6-10fe-4e78-aea5-2f703fc58f53",
   "metadata": {},
   "outputs": [],
   "source": [
    "data = ['[39298900, 31527200]']\n",
    "data[0].split(',')"
   ]
  },
  {
   "cell_type": "code",
   "execution_count": null,
   "id": "1521e83a-44c0-411c-a997-de05502420d1",
   "metadata": {},
   "outputs": [],
   "source": [
    "out_df"
   ]
  },
  {
   "cell_type": "code",
   "execution_count": null,
   "id": "224d72a4-6c62-494f-8e26-a7146bf2cb3c",
   "metadata": {},
   "outputs": [],
   "source": []
  },
  {
   "cell_type": "code",
   "execution_count": null,
   "id": "0dec2f62-465a-45d1-b969-50483462b1a7",
   "metadata": {},
   "outputs": [],
   "source": [
    "df = df_PLACE_all['outsiders']['data']"
   ]
  },
  {
   "cell_type": "code",
   "execution_count": null,
   "id": "43f72331-0ab5-4495-b25f-6d688fb46f01",
   "metadata": {},
   "outputs": [],
   "source": [
    "#df  .query ('budget < 40000 & tedUUID !=\"<NA>\"')\n",
    "import matplotlib.pyplot as plt\n",
    "df['budget_bin'] = pd.qcut(df['budget'], q=10)\n",
    "df[df['tedUUID'] !=\"<NA>\"].groupby ('budget_bin').size().plot(kind=\"bar\")\n",
    "\n",
    "plt.show()"
   ]
  },
  {
   "cell_type": "code",
   "execution_count": null,
   "id": "5609991f-8c4b-49a0-91cb-500c38ec5e6a",
   "metadata": {},
   "outputs": [],
   "source": [
    "df['budget_bin'] = pd.qcut(df['budget'], q=20)\n",
    "df['budget_bin'] = df['budget_bin'].apply(lambda x: f\"{int(x.left):,} - {int(x.right):,}\")\n",
    "total_counts = df.groupby('budget_bin').size()\n",
    "ted_counts = df[df['tedUUID'] != '<NA>'].groupby('budget_bin').size()\n",
    "counts = pd.DataFrame({'Total': total_counts, 'ted ≠ NA': ted_counts}).fillna(0)\n",
    "counts.plot(kind='bar', figsize=(10,6))\n",
    "plt.ylabel('Count')\n",
    "plt.xlabel('Budget Range')\n",
    "plt.xticks(rotation=45)\n",
    "plt.tight_layout()\n",
    "plt.show()"
   ]
  },
  {
   "cell_type": "code",
   "execution_count": null,
   "id": "7905cfeb-9727-4480-b66f-669cc2db6415",
   "metadata": {},
   "outputs": [],
   "source": [
    "df2 = df_PLACE_all['insiders']['data']\n",
    "\n",
    "df2['budget_bin'] = pd.qcut(df2['budget'], q=20)\n",
    "df2['budget_bin'] = df2['budget_bin'].apply(lambda x: f\"{int(x.left):,} - {int(x.right):,}\")\n",
    "total_counts = df2.groupby('budget_bin').size()\n",
    "ted_counts = df2[df2['tedUUID'] != '<NA>'].groupby('budget_bin').size()\n",
    "counts = pd.DataFrame({'Total': total_counts, 'ted ≠ NA': ted_counts}).fillna(0)\n",
    "counts.plot(kind='bar', figsize=(10,6))\n",
    "plt.ylabel('Count')\n",
    "plt.xlabel('Budget Range')\n",
    "plt.xticks(rotation=45)\n",
    "plt.tight_layout()\n",
    "plt.show()\n"
   ]
  },
  {
   "cell_type": "code",
   "execution_count": null,
   "id": "0cf0212e-9fdd-4d71-a4d4-8384085a0626",
   "metadata": {},
   "outputs": [],
   "source": [
    "import matplotlib.pyplot as plt\n"
   ]
  },
  {
   "cell_type": "code",
   "execution_count": null,
   "id": "06acc7f7-68d2-4a05-b6e0-6ebbd86cd5c9",
   "metadata": {},
   "outputs": [],
   "source": [
    "df['budget'].value_counts()"
   ]
  },
  {
   "cell_type": "code",
   "execution_count": null,
   "id": "770c8cd9-0d69-413b-8a45-21bd6372dd75",
   "metadata": {},
   "outputs": [],
   "source": []
  },
  {
   "cell_type": "code",
   "execution_count": null,
   "id": "32ee5c1f-bc51-4af8-815f-29ee3f98165e",
   "metadata": {},
   "outputs": [],
   "source": []
  },
  {
   "cell_type": "code",
   "execution_count": null,
   "id": "07189bab-0c12-4de0-98f3-bd7f10aca95f",
   "metadata": {},
   "outputs": [],
   "source": []
  },
  {
   "cell_type": "code",
   "execution_count": null,
   "id": "572ec15d-cd36-4635-9925-fa1660e7a664",
   "metadata": {},
   "outputs": [],
   "source": []
  },
  {
   "cell_type": "code",
   "execution_count": null,
   "id": "1aec2641-56df-4585-b87c-875bf3371a93",
   "metadata": {},
   "outputs": [],
   "source": [
    "out_df = df_PLACE_all['outsiders']['data']\n",
    "\n",
    "#display(dataFrame.query('Salary  <= 100000 & Age < 40 & JOB.str.startswith(\"C\").values'))\n",
    "\n",
    "data_red = out_df.query ('budget < 40000 & tedUUID !=\"<NA>\"')\n",
    "data_red['budget']"
   ]
  },
  {
   "cell_type": "code",
   "execution_count": null,
   "id": "0f263165-f80b-4153-989e-d0ff3403e1c5",
   "metadata": {},
   "outputs": [],
   "source": [
    "dat"
   ]
  },
  {
   "cell_type": "code",
   "execution_count": null,
   "id": "7657f23b-191b-4c0e-83fe-a563914754dc",
   "metadata": {},
   "outputs": [],
   "source": []
  },
  {
   "cell_type": "code",
   "execution_count": null,
   "id": "3317b12b-92c7-4e27-9c8c-8dd1983d085e",
   "metadata": {},
   "outputs": [],
   "source": []
  },
  {
   "cell_type": "code",
   "execution_count": null,
   "id": "062fcd76-2330-42f4-a7bf-b2e12eb36d4b",
   "metadata": {},
   "outputs": [],
   "source": [
    "\n",
    "df_PLACE_all['insiders']['listOfPliego_administrativo']"
   ]
  },
  {
   "cell_type": "code",
   "execution_count": null,
   "id": "fbd7fe09-84a7-4820-8b0b-cbf91cc791b8",
   "metadata": {},
   "outputs": [],
   "source": []
  },
  {
   "cell_type": "code",
   "execution_count": null,
   "id": "28a6ecdb-9665-4aff-9130-7f866d1a19f7",
   "metadata": {},
   "outputs": [],
   "source": [
    "df_PLACE_minors.columns"
   ]
  },
  {
   "cell_type": "code",
   "execution_count": null,
   "id": "5dd37b24-10a1-4ee7-a70f-f1225a34b8cc",
   "metadata": {},
   "outputs": [],
   "source": []
  },
  {
   "cell_type": "code",
   "execution_count": null,
   "id": "709d77ef-ebb3-4df3-908b-53420bd2e2a6",
   "metadata": {},
   "outputs": [],
   "source": [
    "prueba = df_PLACE_all['outsiders']['data'].copy()"
   ]
  },
  {
   "cell_type": "code",
   "execution_count": null,
   "id": "2b0a1433-1edd-4908-bac4-271ab682cbce",
   "metadata": {},
   "outputs": [],
   "source": [
    "prueba['tedUUID'].value_counts()\n",
    "filter_df = prueba[prueba['tedUUID']!='<NA>']['tedUUID'].to_list()"
   ]
  },
  {
   "cell_type": "code",
   "execution_count": null,
   "id": "afe02198-e4ee-432a-8095-9d324bb8c29a",
   "metadata": {},
   "outputs": [],
   "source": [
    "len(filter_df)"
   ]
  },
  {
   "cell_type": "code",
   "execution_count": null,
   "id": "4d934109-e6cd-4084-9b01-eb8ed7f5734b",
   "metadata": {},
   "outputs": [],
   "source": [
    "len(set (filter_df))"
   ]
  },
  {
   "cell_type": "code",
   "execution_count": null,
   "id": "b9532a79-4ad5-41e3-a333-93437f1fb2ab",
   "metadata": {},
   "outputs": [],
   "source": [
    "prueba.shape[0]"
   ]
  },
  {
   "cell_type": "raw",
   "id": "13cfb5fd-356f-4895-b0c7-fe17cff3cf47",
   "metadata": {},
   "source": [
    "prueba['pliego_administrativo'].value_counts()"
   ]
  },
  {
   "cell_type": "code",
   "execution_count": null,
   "id": "56019b73-45c1-4b8d-b6f8-9da583fc881e",
   "metadata": {},
   "outputs": [],
   "source": [
    "prueba['place_date']\n"
   ]
  },
  {
   "cell_type": "code",
   "execution_count": null,
   "id": "916851ad-991d-46cb-b418-0d4ac247fb64",
   "metadata": {},
   "outputs": [],
   "source": [
    "df_PLACE_all['outsiders']['data']['place_id']"
   ]
  },
  {
   "cell_type": "code",
   "execution_count": null,
   "id": "77d804c5-7ee7-441a-a5bf-5b62b7aa4623",
   "metadata": {},
   "outputs": [],
   "source": [
    "#limpiar por id y quedarnos con unicos y para el 2024"
   ]
  },
  {
   "cell_type": "code",
   "execution_count": null,
   "id": "d6558b1a-c441-4318-99a3-227416c6c8d6",
   "metadata": {},
   "outputs": [],
   "source": [
    "#pliego tecnico\n",
    "df_PLACE_out[['ContractFolderStatus.TechnicalDocumentReference.Attachment.ExternalReference.URI']].value_counts()"
   ]
  },
  {
   "cell_type": "code",
   "execution_count": null,
   "id": "595f61dc-fb09-4f69-be50-bb7a20901086",
   "metadata": {},
   "outputs": [],
   "source": [
    "df_PLACE_out[['ContractFolderStatus.UUID']].value_counts()"
   ]
  },
  {
   "cell_type": "code",
   "execution_count": null,
   "id": "4ebc023b-ca9d-4fde-8cfc-b0e83e701610",
   "metadata": {},
   "outputs": [],
   "source": [
    "#pliego administrativo \n",
    "df_PLACE_out[['ContractFolderStatus.LegalDocumentReference.Attachment.ExternalReference.URI']].value_counts()"
   ]
  },
  {
   "cell_type": "code",
   "execution_count": null,
   "id": "9b1bae9a-fe6e-4af0-8cf7-22edaa48f8fd",
   "metadata": {},
   "outputs": [],
   "source": [
    "# outsiders\n",
    "columns_keep_out = [\n",
    "    #'ContractFolderStatus.ContractFolderID', # Expediente\n",
    "    'ContractFolderStatus.ProcurementProject.RequiredCommodityClassification.ItemClassificationCode', #CPV\n",
    "    'ContractFolderStatus.ProcurementProject.RealizedLocation.CountrySubentityCode', # Country NUTS\n",
    "    'ContractFolderStatus.LocatedContractingParty.ParentLocatedParty.PartyName.Name', # Ubicación orgánica\n",
    "    'ContractFolderStatus.ProcurementProject.BudgetAmount.EstimatedOverallContractAmount', # Presupuesto\n",
    "    'ContractFolderStatus.ContractFolderID', #Expediente\n",
    "    'title', # PLACE title (objective)\n",
    "    'ContractFolderStatus.ValidNoticeInfo.AdditionalPublicationStatus.AdditionalPublicationDocumentReference.IssueDate', # Date\n",
    "    'origin',\n",
    "    'place_id',\n",
    "    'link'\n",
    "]"
   ]
  },
  {
   "cell_type": "code",
   "execution_count": null,
   "id": "10b45969-5e3f-4466-8fd7-5c17fea3a71c",
   "metadata": {},
   "outputs": [],
   "source": [
    "df_PLACE_out"
   ]
  }
 ],
 "metadata": {
  "kernelspec": {
   "display_name": "my_markdown",
   "language": "python",
   "name": "my_markdown"
  },
  "language_info": {
   "codemirror_mode": {
    "name": "ipython",
    "version": 3
   },
   "file_extension": ".py",
   "mimetype": "text/x-python",
   "name": "python",
   "nbconvert_exporter": "python",
   "pygments_lexer": "ipython3",
   "version": "3.12.2"
  }
 },
 "nbformat": 4,
 "nbformat_minor": 5
}
